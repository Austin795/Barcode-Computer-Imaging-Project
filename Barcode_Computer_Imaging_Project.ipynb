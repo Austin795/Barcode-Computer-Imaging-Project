{
  "nbformat": 4,
  "nbformat_minor": 0,
  "metadata": {
    "colab": {
      "name": "Barcode_Computer_Imaging_Project.ipynb",
      "provenance": [],
      "collapsed_sections": [],
      "include_colab_link": true
    },
    "kernelspec": {
      "name": "python3",
      "display_name": "Python 3"
    }
  },
  "cells": [
    {
      "cell_type": "markdown",
      "metadata": {
        "id": "view-in-github",
        "colab_type": "text"
      },
      "source": [
        "<a href=\"https://colab.research.google.com/github/Austin795/Barcode-Computer-Imaging-Project/blob/master/Barcode_Computer_Imaging_Project.ipynb\" target=\"_parent\"><img src=\"https://colab.research.google.com/assets/colab-badge.svg\" alt=\"Open In Colab\"/></a>"
      ]
    },
    {
      "cell_type": "code",
      "metadata": {
        "id": "EdW6WIzsgX9U",
        "colab_type": "code",
        "outputId": "e453166e-cc68-4d64-a777-657385063f79",
        "colab": {
          "base_uri": "https://localhost:8080/",
          "height": 1000
        }
      },
      "source": [
        "# binarizes the image and does some cropping, uses erosion for edge detection. Does not analyze the bars\n",
        "\n",
        "from PIL import Image, ImageFilter, ImageEnhance\n",
        "import numpy as np\n",
        "import matplotlib.pyplot as plt\n",
        "import cv2\n",
        "\n",
        "# General Approach and Methods:\n",
        "## Binarize the image, increase / decrease contrast, increase / decrease brightness\n",
        "## shape detection\n",
        "## use the above shape detection to 'estimate' width value\n",
        "\n",
        "\n",
        "# binarizeImg takes in an image and converts it to binary using a passed in threshold\n",
        "def binarizeImg(thresh, baseImg, basePix): \n",
        "  newImg = Image.new('L', (baseImg.width, baseImg.height)) # make a copy as to not change our original image\n",
        "  newPix = newImg.load()\n",
        "  npArray = np.asarray(newImg)\n",
        "  for i in range(baseImg.width):\n",
        "    for j in range(baseImg.height):\n",
        "      newPix[i, j] = basePix[i, j] # copy our image\n",
        "\n",
        "  for i in range(newImg.width):\n",
        "    for j in range(newImg.height):\n",
        "      if newPix[i, j] < thresh: # check against the threshold value\n",
        "        newPix[i, j] = 0\n",
        "      else:\n",
        "        newPix[i, j] = 1\n",
        "  return newImg\n",
        "\n",
        "# function that increases the contrast of an image given an intensity\n",
        "def adjustContrast(baseImg, intensity):\n",
        "  contrast = ImageEnhance.Contrast(baseImg)\n",
        "  contrast = contrast.enhance(intensity) # set FACTOR > 1 to enhance contrast, < 1 to decrease\n",
        "  return contrast\n",
        "\n",
        "# using a modifier, returns an image with a changed brightness setting\n",
        "def adjustBrightness(baseImg, modifier):\n",
        "  pixels = baseImg.load()\n",
        "  for i in range(baseImg.width):\n",
        "    for j in range(baseImg.height):\n",
        "      newValue = pixels[i, j] + modifier\n",
        "      if newValue > 255:\n",
        "        pixels[i, j] = 255\n",
        "      elif newValue < 0:\n",
        "        pixels[i, j] = 0\n",
        "      else:\n",
        "        pixels[i, j] = newValue\n",
        "  \n",
        "  return baseImg\n",
        "\n",
        "# calculates the min and max pxiels in an image, uses the difference to\n",
        "# determine whether the quality of the image is good or poor\n",
        "def imgIsGood(img, thresh):\n",
        "  npArray = np.asarray(img) # convert to numoy array for easier calculation\n",
        "  min = np.amin(npArray) # get the minimum pixel value\n",
        "  max = np.amax(npArray) # get the maximum pixel value\n",
        "\n",
        "  if min == 0 and max == 255: # if both min and max is 0 and 255, probably a digital barcode image\n",
        "    return True\n",
        "  else: # otherwise likely a photo of a bracode\n",
        "    if (max - min) > thresh:\n",
        "      return False\n",
        "    else:\n",
        "      return True\n",
        "\n",
        "# SMOOTH AND SHARPEN KERNELS GRABBED FROM: https://www.taylorpetrick.com/blog/post/convolution-part3\n",
        "def smoothImage(img):\n",
        "  kernel = np.ones((4,4),np.float32)/25 # smooth kernel\n",
        "  adjusted = cv2.filter2D(np.asarray(img),-1,kernel)\n",
        "  return Image.fromarray(adjusted)\n",
        "\n",
        "def sharpenImage(img):\n",
        "  kernel = np.array(([0, -1, 0],[-1, 5, -1],[0, -1, 0]), dtype=\"int\")\n",
        "  adjusted = cv2.filter2D(np.asarray(img),-1,kernel)\n",
        "  return Image.fromarray(adjusted)\n",
        "\n",
        "def rotateImage(image, angle):\n",
        "  imageCenter = tuple(np.array(image.shape[1::-1]) / 2)\n",
        "  rotationMatrix = cv2.getRotationMatrix2D(imageCenter, angle, 1.0)\n",
        "  result = cv2.warpAffine(image, rotationMatrix, image.shape[1::-1], flags=cv2.INTER_LINEAR)\n",
        "  return result\n",
        "\n",
        "def detectBarCode(origImg, binImg):\n",
        "  # finds all of the contours of the image of all detected shapes\n",
        "  contours, _ = cv2.findContours(binImg,1,2)\n",
        "  img = binImg # copy our binImg into a new variable to not change the original binarized version\n",
        "  validBar = [] # valid bar consists of the coordinates of all rectangles detected if it is assumed to be a bar in the barcode\n",
        "  maxAngle = 0\n",
        "  for cnt in contours:\n",
        "    (x, y, w, h) = cv2.boundingRect(cnt) # gets the x, y coords and size of the contour\n",
        "    approx = cv2.approxPolyDP(cnt,0.01*cv2.arcLength(cnt,True),True)\n",
        "    if len(approx)==4: # if approx is 4, this contour is a rectangle / square\n",
        "      \n",
        "      # with x and y > 0, skip the edge of the image being considered a contour.\n",
        "      # h and w calculations help assure that we only grab contours that are rectangles\n",
        "      # in the barcode and not from anywhere else in the image\n",
        "      if x > 0 and y > 0 and h > 30 and w < 70:\n",
        "        # If all above are true, then this is probably a barcode rectangle. Add it as a valid contour.\n",
        "        rotatedRect = cv2.minAreaRect(cnt)\n",
        "        validBar.append((x, y, x + w, y + h))\n",
        "        angle = rotatedRect[2] * -1 # stores the angle of the contour\n",
        "        if angle > maxAngle and angle != -90 and angle != 0:\n",
        "          maxAngle = angle \n",
        "\n",
        "  validNp = np.asarray(validBar) # make validBars into a numpy array\n",
        "  left = np.min(validNp[:,0])\n",
        "  top = np.min(validNp[:,1])\n",
        "  right = np.max(validNp[:,2])\n",
        "  bottom = np.max(validNp[:,3])\n",
        "\n",
        "  drawBoundingBox(np.asarray(origImg), contours, (left, top, right, bottom))\n",
        "  rotated = rotateImage(binImg, (maxAngle * -1) // 2) # use our maxAngle // 2 as the amount to rotate\n",
        "\n",
        "  # convert to pillow image for simple cropping, then return back the numpy array value of the cropped image\n",
        "  image = Image.fromarray(rotated)\n",
        "  image = image.crop((left, top, right, bottom))\n",
        "  return np.asarray(image) \n",
        "\n",
        "def drawBoundingBox(image, contours, points):\n",
        "  # following gets coordinates needed for cropping\n",
        "  rectImage = np.asarray(image.copy())\n",
        "  contImage = np.asarray(image.copy())\n",
        "\n",
        "  cv2.drawContours(contImage, contours, -1, (255, 0, 0), 2)\n",
        "  print(\"DETECTED CONTOURS\")\n",
        "  plt.imshow(contImage)\n",
        "  plt.show()\n",
        "  \n",
        "  cv2.rectangle(rectImage, (points[0], points[1]), (points[2], points[3]), (255, 0, 0), 3)\n",
        "  print(\"DETECTED BARCODE REGION\")\n",
        "  plt.imshow(rectImage)\n",
        "  plt.show()\n",
        "\n",
        "#### BEGIN MAIN ####\n",
        "\n",
        "# load the barcode\n",
        "imOrig = Image.open('bar1_resize.jpg')\n",
        "im = imOrig.convert('L') # convert to grayscale\n",
        "\n",
        "print(\"Original image in grayscale for comparison:\")\n",
        "plt.imshow(im, cmap=\"gray\")\n",
        "plt.show()\n",
        "\n",
        "erosionFactor = 0 # will change based on whether it is a photo or digital scan\n",
        "# if image is not a digital scan of a barcode, meaning it is probably a photo, perform some cleanup.\n",
        "if not imgIsGood(im, 50):\n",
        "  print(\"This image seems to be a photo of a barcode, attempting to clean up and binarize.\")\n",
        "  im = adjustBrightness(im, -30) # increasing brightness seems to make fabrizzio's picture worse\n",
        "  im = adjustContrast(im, -100)\n",
        "  #im = smoothImage(im)\n",
        "  im = sharpenImage(im)\n",
        "  erosionFactor = 6\n",
        "else:\n",
        "  print(\"Image seems to be a digital scan. Going to binarize without cleaning up\")\n",
        "  erosionFactor = 3\n",
        "\n",
        "# convert the image to binary, im will now hold the binarized pixels\n",
        "im = binarizeImg(127, im, im.load())\n",
        "\n",
        "# store im as a numpy array, makes it easier to perform operations\n",
        "npBin = np.asarray(im)\n",
        "# attempt to draw and crop the image to where the barcode is\n",
        "npBin = detectBarCode(imOrig, npBin)\n",
        "\n",
        "# build a convolution kernel, and use it to generate the difference between the image and its eroded version\n",
        "kernel = np.ones((erosionFactor, erosionFactor),np.uint8)\n",
        "erosion = cv2.erode(npBin, kernel)\n",
        "print(\"BINARY\")\n",
        "plt.imshow(npBin, cmap='gray', vmin=0,vmax=1)\n",
        "plt.show()\n",
        "print(\"EROSION\")\n",
        "plt.imshow(erosion, cmap='gray', vmin=0,vmax=1)\n",
        "plt.show()\n",
        "\n",
        "difference = npBin - erosion # use erosion for edge detection\n",
        "\n",
        "## Save our final image to be used for analysis\n",
        "imNewFromArray = Image.fromarray(difference)\n",
        "imNewFromArray.save('test.png')\n",
        "\n",
        "print(\"FINAL EDGE DETECTION IMAGE USED FOR ANALYSIS (Binary - Erosion)\")\n",
        "plt.imshow(difference, cmap='gray', vmin=0,vmax=1)\n",
        "plt.show()"
      ],
      "execution_count": 0,
      "outputs": [
        {
          "output_type": "stream",
          "text": [
            "Original image in grayscale for comparison:\n"
          ],
          "name": "stdout"
        },
        {
          "output_type": "display_data",
          "data": {
            "image/png": "[encoded data removed]",
            "text/plain": [
              "<Figure size 432x288 with 1 Axes>"
            ]
          },
          "metadata": {
            "tags": []
          }
        },
        {
          "output_type": "stream",
          "text": [
            "Image seems to be a digital scan. Going to binarize without cleaning up\n",
            "DETECTED CONTOURS\n"
          ],
          "name": "stdout"
        },
        {
          "output_type": "display_data",
          "data": {
            "image/png": "[encoded data removed]",
            "text/plain": [
              "<Figure size 432x288 with 1 Axes>"
            ]
          },
          "metadata": {
            "tags": []
          }
        },
        {
          "output_type": "stream",
          "text": [
            "DETECTED BARCODE REGION\n"
          ],
          "name": "stdout"
        },
        {
          "output_type": "display_data",
          "data": {
            "image/png": "[encoded data removed]",
            "text/plain": [
              "<Figure size 432x288 with 1 Axes>"
            ]
          },
          "metadata": {
            "tags": []
          }
        },
        {
          "output_type": "stream",
          "text": [
            "BINARY\n"
          ],
          "name": "stdout"
        },
        {
          "output_type": "display_data",
          "data": {
            "image/png": "[encoded data removed]",
            "text/plain": [
              "<Figure size 432x288 with 1 Axes>"
            ]
          },
          "metadata": {
            "tags": []
          }
        },
        {
          "output_type": "stream",
          "text": [
            "EROSION\n"
          ],
          "name": "stdout"
        },
        {
          "output_type": "display_data",
          "data": {
            "image/png": "[encoded data removed]",
            "text/plain": [
              "<Figure size 432x288 with 1 Axes>"
            ]
          },
          "metadata": {
            "tags": []
          }
        },
        {
          "output_type": "stream",
          "text": [
            "FINAL EDGE DETECTION IMAGE USED FOR ANALYSIS (Binary - Erosion)\n"
          ],
          "name": "stdout"
        },
        {
          "output_type": "display_data",
          "data": {
            "image/png": "[encoded data removed]",
            "text/plain": [
              "<Figure size 432x288 with 1 Axes>"
            ]
          },
          "metadata": {
            "tags": []
          }
        }
      ]
    },
    {
      "cell_type": "code",
      "metadata": {
        "id": "szglo_cZhu67",
        "colab_type": "code",
        "outputId": "d00c5247-73f2-43b7-9167-6bc2ea99b14d",
        "colab": {
          "base_uri": "https://localhost:8080/",
          "height": 836
        }
      },
      "source": [
        "### Analyzes the bars.  Uses previously binarized image.  Determines number of black pixels and white pixels in one row.\n",
        "from PIL import Image, ImageDraw\n",
        "import numpy as np\n",
        "# Open Binary Image of Barcode from previous method and display it for error check\n",
        "BinBarcode = Image.open('test.png')\n",
        "plt.imshow(BinBarcode, cmap='gray', vmin=0,vmax=1)\n",
        "plt.show()\n",
        "\n",
        "# What row in the image do we want to read.  We read the middle line (row) with this value\n",
        "lineNum = BinBarcode.height // 2\n",
        "print(\"Line number we are reading:\", lineNum)\n",
        "\n",
        "# Get width of image\n",
        "width = BinBarcode.width\n",
        "height = BinBarcode.height\n",
        "\n",
        "# Return entire image as a numpy 2D array and assign\n",
        "BBArray = BinBarcode.getdata()\n",
        "\n",
        "pixels = BinBarcode.load()\n",
        "\n",
        "#Print the selected row of the image in binary\n",
        "for i in range (0,width):\n",
        "  pixels[i,lineNum]\n",
        "  print(pixels[i,lineNum], end = \" \")\n",
        "\n",
        "# Print the first row of the 2D array.  0 means black pixel found. 1 means white pixel found.\n",
        "# Collect number of series of 1's \n",
        "newList = []\n",
        "counter = 0\n",
        "\n",
        "for i in range(0,width):\n",
        "  if pixels[i,lineNum] == 0:\n",
        "    counter = counter+1 \n",
        "  if pixels[i,lineNum] == 1:\n",
        "    newList.append(counter)\n",
        "    counter = 0\n",
        "newList[0] = 0  # set first value to 0 cause it doesn't matter\n",
        "\n",
        "print(\" \")\n",
        "print(\"Raw Data Above ------------- Proccesed Data Below\")\n",
        "print(\" \")\n",
        "print(\"List of widths:\", newList)\n",
        "\n",
        "\n",
        "evenList = []\n",
        "oddList = []\n",
        "\n",
        "for i in range(0,len(newList)):\n",
        "  if i % 2:\n",
        "    evenList.append(newList[i])\n",
        "  else:\n",
        "    oddList.append(newList[i])\n",
        "\n",
        "barcodeEx = Image.open('barcode.jpg')\n",
        "plt.imshow(barcodeEx, cmap='gray',vmin=0,vmax=255)\n",
        "plt.show()\n",
        "\n",
        "print(\"-----------\")\n",
        "print(\"Black Bar Widths (Even Values) List:\", evenList)\n",
        "print(\"-----------\")\n",
        "print(\"White Bar Widths (Odd Values) List:\", oddList)\n",
        "print(\"-----------\")\n",
        "print(\"Visual representation of the line we are reading\")\n",
        "\n",
        "# draw line (debugging purposes)\n",
        "pixel = BinBarcode.load()\n",
        "for i in range (0,width):\n",
        "  pixel[i,lineNum] = 160\n",
        "plt.imshow(BinBarcode, cmap='gray', vmin=0,vmax=1)\n",
        "plt.show()\n",
        "\n",
        "# Interpet Data found\n",
        "arr = np.array(evenList)\n",
        "commonVals = [0,0,0,0]\n",
        "finalCode = []\n",
        "currentHigh1 = 0\n",
        "currentHigh2 = 0\n",
        "currentHigh3 = 0\n",
        "currentHigh4 = 0\n",
        "\n",
        "# Find 4 most common values (widths) in barcode.\n",
        "for i in range(0,np.amax(arr)):\n",
        "  check = np.count_nonzero(arr == i)\n",
        "  if check > currentHigh1:\n",
        "     currentHigh1 = check\n",
        "     commonVals[0] = i\n",
        "  elif check > currentHigh2:\n",
        "    currentHigh2 = check\n",
        "    commonVals[1] = i\n",
        "  elif check > currentHigh3:\n",
        "    currentHigh3 = check\n",
        "    commonVals[2] = i\n",
        "  elif check > currentHigh4:\n",
        "    currentHigh4 = check\n",
        "    commonVals[3] = i\n",
        "\n",
        "# Our simple algo for determining final numeric value hiding in the barcode.  Could be more complex but its just for fun\n",
        "for i in range(0,len(evenList)):\n",
        "  if evenList[i] == commonVals[0]:\n",
        "    # finalCode.append(1)\n",
        "    if i < len(evenList)-2 and evenList[i+1] == commonVals[0]:\n",
        "      if evenList[i+1] == commonVals[0]:\n",
        "        finalCode.append(8)\n",
        "  if evenList[i] == commonVals[1]:\n",
        "    finalCode.append(2)\n",
        "  if evenList[i] == commonVals[2]:\n",
        "    finalCode.append(3)\n",
        "  if evenList[i] == commonVals[3]:\n",
        "    finalCode.append(4)\n",
        "  \n",
        "# Do some final prints\n",
        "print(\"Most Common Values (Widths in Barcode):\", commonVals)\n",
        "#print(evenList)\n",
        "#print(\"Before parse barcode value:\", evenList)\n",
        "print(\"Predicted barcode value using our algo:\", finalCode) \n",
        "\n",
        "\n"
      ],
      "execution_count": 0,
      "outputs": [
        {
          "output_type": "display_data",
          "data": {
            "image/png": "[encoded data removed]",
            "text/plain": [
              "<Figure size 432x288 with 1 Axes>"
            ]
          },
          "metadata": {
            "tags": []
          }
        },
        {
          "output_type": "stream",
          "text": [
            "Line number we are reading: 62\n",
            "1 0 0 0 1 0 0 1 0 0 0 1 0 0 0 0 0 0 0 0 1 0 0 0 1 0 0 1 0 0 0 0 0 0 1 0 0 1 0 0 0 1 0 0 0 0 1 0 0 0 0 0 0 0 0 0 0 1 0 0 1 0 0 0 0 0 0 1 0 0 0 0 0 1 0 0 0 0 0 0 1 0 0 0 0 0 1 0 0 0 1 0 0 0 0 0 1 0 0 0 0 0 0 1 0 0 1 0 0 0 0 0 0 0 0 0 0 0 0 0 1 0 1 0 0 0 0 1 0 0 0 0 1 0 0 0 0 0 0 0 0 0 0 1 0 0 1 0 0 0 1 0 1 0 0 0 1 0 0 1 0 0 0 1 0 1 0 0 0 0 0 0 0 1 0 0 0 0 0 1 0 0 0 0 0 0 1 0 1 0 0 0 0 0 0 0 1 0 1 0 0 0 0 0 0 0 1 0 0 0 0 0 1 0 0 0 1 0 0 0 0 0 0 0 0 0 0 0 1 0 0 0 1 0 0 1 0 0 0 1 0 1 0 0 0 0 0 0 0 0 0 0 1 0 0 0 0 0 1 0 0 0 1 0 0 0 0 0 1 0 0 0 0 0 0 0 0 0 1 0 0 1 0 0 0 1 0 0 0 0 0 0 0 0 1 0 0 0 1 0 0 0 0 0 1 0 0 0 1 0 0 1 0 0 0 1  \n",
            "Raw Data Above ------------- Proccesed Data Below\n",
            " \n",
            "List of widths: [0, 3, 2, 3, 8, 3, 2, 6, 2, 3, 4, 10, 2, 6, 5, 6, 5, 3, 5, 6, 2, 13, 1, 4, 4, 10, 2, 3, 1, 3, 2, 3, 1, 7, 5, 6, 1, 7, 1, 7, 5, 3, 11, 3, 2, 3, 1, 10, 5, 3, 5, 9, 2, 3, 8, 3, 5, 3, 2, 3]\n"
          ],
          "name": "stdout"
        },
        {
          "output_type": "display_data",
          "data": {
            "image/png": "[encoded data removed]",
            "text/plain": [
              "<Figure size 432x288 with 1 Axes>"
            ]
          },
          "metadata": {
            "tags": []
          }
        },
        {
          "output_type": "stream",
          "text": [
            "-----------\n",
            "Black Bar Widths (Even Values) List: [3, 3, 3, 6, 3, 10, 6, 6, 3, 6, 13, 4, 10, 3, 3, 3, 7, 6, 7, 7, 3, 3, 3, 10, 3, 9, 3, 3, 3, 3]\n",
            "-----------\n",
            "White Bar Widths (Odd Values) List: [0, 2, 8, 2, 2, 4, 2, 5, 5, 5, 2, 1, 4, 2, 1, 2, 1, 5, 1, 1, 5, 11, 2, 1, 5, 5, 2, 8, 5, 2]\n",
            "-----------\n",
            "Visual representation of the line we are reading\n"
          ],
          "name": "stdout"
        },
        {
          "output_type": "display_data",
          "data": {
            "image/png": "[encoded data removed]",
            "text/plain": [
              "<Figure size 432x288 with 1 Axes>"
            ]
          },
          "metadata": {
            "tags": []
          }
        },
        {
          "output_type": "stream",
          "text": [
            "Most Common Values (Widths in Barcode): [3, 6, 7, 10]\n",
            "Predicted barcode value using our algo: [8, 8, 2, 4, 2, 2, 2, 4, 8, 8, 3, 2, 3, 3, 8, 8, 4, 8, 8]\n"
          ],
          "name": "stdout"
        }
      ]
    },
    {
      "cell_type": "code",
      "metadata": {
        "id": "zxUg6eIcot23",
        "colab_type": "code",
        "colab": {}
      },
      "source": [
        "# Use found widths to turn out some numeric value\n",
        "# Wherever we get a 0 width its considered an error.  The first value is set to zero cause it doesn't matter.\n",
        "# Any other zero width values are due to edges meshing produce thick white lines\n",
        "\n",
        "\n",
        "\n",
        "\n"
      ],
      "execution_count": 0,
      "outputs": []
    }
  ]
}